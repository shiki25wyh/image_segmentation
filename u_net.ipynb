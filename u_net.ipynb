{
 "cells": [
  {
   "cell_type": "code",
   "execution_count": 1,
   "metadata": {
    "_cell_guid": "b1076dfc-b9ad-4769-8c92-a6c4dae69d19",
    "_uuid": "8f2839f25d086af736a60e9eeb907d3b93b6e0e5",
    "execution": {
     "iopub.execute_input": "2022-06-25T09:48:52.521683Z",
     "iopub.status.busy": "2022-06-25T09:48:52.520994Z",
     "iopub.status.idle": "2022-06-25T09:48:52.526875Z",
     "shell.execute_reply": "2022-06-25T09:48:52.525914Z",
     "shell.execute_reply.started": "2022-06-25T09:48:52.521642Z"
    }
   },
   "outputs": [],
   "source": [
    "import numpy as np \n",
    "import pandas as pd \n",
    "import os\n",
    "import matplotlib.pyplot as plt\n",
    "%matplotlib inline"
   ]
  },
  {
   "cell_type": "code",
   "execution_count": 2,
   "metadata": {
    "execution": {
     "iopub.execute_input": "2022-06-25T09:49:06.537755Z",
     "iopub.status.busy": "2022-06-25T09:49:06.537388Z",
     "iopub.status.idle": "2022-06-25T09:49:06.549909Z",
     "shell.execute_reply": "2022-06-25T09:49:06.548793Z",
     "shell.execute_reply.started": "2022-06-25T09:49:06.537724Z"
    }
   },
   "outputs": [
    {
     "name": "stderr",
     "output_type": "stream",
     "text": [
      "/opt/homebrew/Caskroom/miniforge/base/envs/opencv/lib/python3.9/site-packages/tqdm/auto.py:22: TqdmWarning: IProgress not found. Please update jupyter and ipywidgets. See https://ipywidgets.readthedocs.io/en/stable/user_install.html\n",
      "  from .autonotebook import tqdm as notebook_tqdm\n"
     ]
    }
   ],
   "source": [
    "from torch.utils.data import Dataset\n",
    "from PIL import Image\n",
    "from torchvision import transforms\n",
    "\n",
    "transform = transforms.Compose([\n",
    "    transforms.ToTensor(), # range [0, 255] -> [0.0,1.0]\n",
    "    ]\n",
    ")\n",
    "\n",
    "\n",
    "\n",
    "class MyDataset(Dataset):\n",
    "    def __init__(self,path):\n",
    "        self.path = path\n",
    "        self.name = os.listdir(os.path.join(path,'matting/1803151818/matting_00000000'))\n",
    "        \n",
    "    def __len__(self):\n",
    "        return len(self.name)\n",
    "    \n",
    "    def __getitem__(self,index):\n",
    "        segment_name = self.name[index]\n",
    "        segment_path = os.path.join(self.path,'matting/1803151818/matting_00000000',segment_name)\n",
    "        image_path = os.path.join(self.path,'clip_img/1803151818/clip_00000000',segment_name.replace('png','jpg'))\n",
    "        image = Image.open(image_path).resize((256,256))\n",
    "        segment = Image.open(segment_path).resize((256,256))\n",
    "        segment = np.array(segment)\n",
    "        segment[:,:,0][segment[:,:,3]!=0 ] = 255\n",
    "        segment[:,:,1][segment[:,:,3]!=0 ] = 255\n",
    "        segment[:,:,2][segment[:,:,3]!=0 ] = 255\n",
    "        segment = segment[:,:,0:3]\n",
    "        return transform(image),transform(segment)\n",
    "    \n",
    "    \n",
    "\n",
    "        "
   ]
  },
  {
   "cell_type": "code",
   "execution_count": 3,
   "metadata": {
    "execution": {
     "iopub.execute_input": "2022-06-25T09:49:11.694188Z",
     "iopub.status.busy": "2022-06-25T09:49:11.693380Z",
     "iopub.status.idle": "2022-06-25T09:49:11.703834Z",
     "shell.execute_reply": "2022-06-25T09:49:11.702637Z",
     "shell.execute_reply.started": "2022-06-25T09:49:11.694148Z"
    }
   },
   "outputs": [],
   "source": [
    "data = MyDataset('archive')"
   ]
  },
  {
   "cell_type": "code",
   "execution_count": 4,
   "metadata": {
    "execution": {
     "iopub.execute_input": "2022-06-25T09:49:13.938194Z",
     "iopub.status.busy": "2022-06-25T09:49:13.937630Z",
     "iopub.status.idle": "2022-06-25T09:49:13.984700Z",
     "shell.execute_reply": "2022-06-25T09:49:13.983674Z",
     "shell.execute_reply.started": "2022-06-25T09:49:13.938158Z"
    }
   },
   "outputs": [
    {
     "data": {
      "text/plain": [
       "torch.Size([3, 256, 256])"
      ]
     },
     "execution_count": 4,
     "metadata": {},
     "output_type": "execute_result"
    }
   ],
   "source": [
    "data[0][1].shape"
   ]
  },
  {
   "cell_type": "code",
   "execution_count": 5,
   "metadata": {
    "execution": {
     "iopub.execute_input": "2022-06-25T09:49:22.069017Z",
     "iopub.status.busy": "2022-06-25T09:49:22.068423Z",
     "iopub.status.idle": "2022-06-25T09:49:22.089220Z",
     "shell.execute_reply": "2022-06-25T09:49:22.088255Z",
     "shell.execute_reply.started": "2022-06-25T09:49:22.068978Z"
    }
   },
   "outputs": [],
   "source": [
    "import torch\n",
    "from torch import nn\n",
    "from torch.nn import functional as F\n",
    "class Conv_Block(nn.Module):\n",
    "    def __init__(self,in_chanel,out_channel):\n",
    "        super(Conv_Block,self).__init__()\n",
    "        self.layer = nn.Sequential(\n",
    "            nn.Conv2d(in_chanel,out_channel,3,1,1,padding_mode = 'reflect',bias = False),\n",
    "            nn.BatchNorm2d(out_channel),\n",
    "            nn.Dropout2d(0.3),\n",
    "            nn.LeakyReLU(),\n",
    "            nn.Conv2d(out_channel,out_channel,3,1,1,padding_mode = 'reflect',bias = False),\n",
    "            nn.BatchNorm2d(out_channel),\n",
    "            nn.Dropout2d(0.3),\n",
    "            nn.LeakyReLU(),\n",
    "        )\n",
    "    def forward(self,x):\n",
    "        return self.layer(x)\n",
    "    \n",
    "class DownSample(nn.Module):\n",
    "    def __init__(self,channel):\n",
    "        super(DownSample,self).__init__()\n",
    "        self.layer = nn.Sequential(\n",
    "            nn.Conv2d(channel,channel,3,2,1,padding_mode = 'reflect',bias = False),\n",
    "            nn.BatchNorm2d(channel),\n",
    "            nn.LeakyReLU()\n",
    "        )\n",
    "    def forward(self,x):\n",
    "        return self.layer(x)\n",
    "        \n",
    "class UpSample(nn.Module):\n",
    "    def __init__(self,channel):\n",
    "        super(UpSample,self).__init__()\n",
    "        self.layer = nn.Conv2d(channel,channel//2,1,1)\n",
    "    def forward(self,x,feature_map):\n",
    "        up = F.interpolate(x,scale_factor = 2,mode = 'nearest')\n",
    "        out = self.layer(up)\n",
    "        return torch.cat((out,feature_map),dim = 1)\n",
    "    \n",
    "    \n",
    "class UNet(nn.Module):\n",
    "    def __init__(self):\n",
    "        super(UNet,self).__init__()\n",
    "        self.c1 = Conv_Block(3,64)\n",
    "        self.d1 = DownSample(64)\n",
    "        self.c2 = Conv_Block(64,128)\n",
    "        self.d2 = DownSample(128)\n",
    "        self.c3 = Conv_Block(128,256)\n",
    "        self.d3 = DownSample(256)\n",
    "        self.c4 = Conv_Block(256,512)\n",
    "        self.d4 = DownSample(512)\n",
    "        self.c5 = Conv_Block(512,1024)\n",
    "        self.u1 = UpSample(1024)\n",
    "        self.c6 = Conv_Block(1024,512)\n",
    "        self.u2 = UpSample(512)\n",
    "        self.c7 = Conv_Block(512,256)\n",
    "        self.u3 = UpSample(256)\n",
    "        self.c8 = Conv_Block(256,128)\n",
    "        self.u4 = UpSample(128)\n",
    "        self.c9 = Conv_Block(128,64)\n",
    "        self.out = nn.Conv2d(64,3,3,1,1)\n",
    "        self.Th = nn.Sigmoid()\n",
    "    def forward(self,x):\n",
    "        R1 = self.c1(x)\n",
    "        R2 = self.c2(self.d1(R1))\n",
    "        R3 = self.c3(self.d2(R2))\n",
    "        R4 = self.c4(self.d3(R3))\n",
    "        R5 = self.c5(self.d4(R4))\n",
    "        O1 = self.c6(self.u1(R5,R4))\n",
    "        O2 = self.c7(self.u2(O1,R3))\n",
    "        O3 = self.c8(self.u3(O2,R2))\n",
    "        O4 = self.c9(self.u4(O3,R1))\n",
    "\n",
    "        return self.Th(self.out(O4))"
   ]
  },
  {
   "cell_type": "code",
   "execution_count": 6,
   "metadata": {
    "execution": {
     "iopub.execute_input": "2022-06-25T09:28:33.760487Z",
     "iopub.status.busy": "2022-06-25T09:28:33.760028Z",
     "iopub.status.idle": "2022-06-25T09:28:38.119629Z",
     "shell.execute_reply": "2022-06-25T09:28:38.118633Z",
     "shell.execute_reply.started": "2022-06-25T09:28:33.760449Z"
    }
   },
   "outputs": [
    {
     "data": {
      "text/plain": [
       "torch.Size([2, 3, 256, 256])"
      ]
     },
     "execution_count": 6,
     "metadata": {},
     "output_type": "execute_result"
    }
   ],
   "source": [
    "x = torch.randn(2,3,256,256)\n",
    "net=UNet()\n",
    "net(x).shape"
   ]
  },
  {
   "cell_type": "code",
   "execution_count": 10,
   "metadata": {
    "execution": {
     "iopub.execute_input": "2022-06-25T09:49:27.477631Z",
     "iopub.status.busy": "2022-06-25T09:49:27.477271Z",
     "iopub.status.idle": "2022-06-25T09:49:27.483423Z",
     "shell.execute_reply": "2022-06-25T09:49:27.482075Z",
     "shell.execute_reply.started": "2022-06-25T09:49:27.477577Z"
    }
   },
   "outputs": [],
   "source": [
    "device = torch.device('cuda' if torch.cuda.is_available() else 'cpu')"
   ]
  },
  {
   "cell_type": "code",
   "execution_count": 12,
   "metadata": {
    "execution": {
     "iopub.execute_input": "2022-06-25T09:49:28.489578Z",
     "iopub.status.busy": "2022-06-25T09:49:28.489245Z",
     "iopub.status.idle": "2022-06-25T09:49:28.494314Z",
     "shell.execute_reply": "2022-06-25T09:49:28.492903Z",
     "shell.execute_reply.started": "2022-06-25T09:49:28.489549Z"
    }
   },
   "outputs": [],
   "source": [
    "weight_path = 'params/unet.pth'\n",
    "\n",
    "save_path = 'train_image'"
   ]
  },
  {
   "cell_type": "code",
   "execution_count": 13,
   "metadata": {
    "execution": {
     "iopub.execute_input": "2022-06-25T09:50:50.739364Z",
     "iopub.status.busy": "2022-06-25T09:50:50.738091Z",
     "iopub.status.idle": "2022-06-25T09:50:51.159319Z",
     "shell.execute_reply": "2022-06-25T09:50:51.157512Z",
     "shell.execute_reply.started": "2022-06-25T09:50:50.739315Z"
    }
   },
   "outputs": [
    {
     "name": "stdout",
     "output_type": "stream",
     "text": [
      "successful load weight\n",
      "1-0--train_loss=====>>0.11542996019124985\n",
      "1-5--train_loss=====>>0.12132676690816879\n"
     ]
    },
    {
     "ename": "KeyboardInterrupt",
     "evalue": "",
     "output_type": "error",
     "traceback": [
      "\u001b[0;31m---------------------------------------------------------------------------\u001b[0m",
      "\u001b[0;31mKeyboardInterrupt\u001b[0m                         Traceback (most recent call last)",
      "Input \u001b[0;32mIn [13]\u001b[0m, in \u001b[0;36m<cell line: 16>\u001b[0;34m()\u001b[0m\n\u001b[1;32m     20\u001b[0m train_loss \u001b[38;5;241m=\u001b[39m loss_fun(out_image,segment_image)\n\u001b[1;32m     22\u001b[0m opt\u001b[38;5;241m.\u001b[39mzero_grad()\n\u001b[0;32m---> 23\u001b[0m \u001b[43mtrain_loss\u001b[49m\u001b[38;5;241;43m.\u001b[39;49m\u001b[43mbackward\u001b[49m\u001b[43m(\u001b[49m\u001b[43m)\u001b[49m\n\u001b[1;32m     24\u001b[0m opt\u001b[38;5;241m.\u001b[39mstep()\n\u001b[1;32m     26\u001b[0m \u001b[38;5;28;01mif\u001b[39;00m i\u001b[38;5;241m%\u001b[39m\u001b[38;5;241m5\u001b[39m\u001b[38;5;241m==\u001b[39m\u001b[38;5;241m0\u001b[39m:\n",
      "File \u001b[0;32m/opt/homebrew/Caskroom/miniforge/base/envs/opencv/lib/python3.9/site-packages/torch/_tensor.py:401\u001b[0m, in \u001b[0;36mTensor.backward\u001b[0;34m(self, gradient, retain_graph, create_graph, inputs)\u001b[0m\n\u001b[1;32m    392\u001b[0m \u001b[38;5;28;01mif\u001b[39;00m has_torch_function_unary(\u001b[38;5;28mself\u001b[39m):\n\u001b[1;32m    393\u001b[0m     \u001b[38;5;28;01mreturn\u001b[39;00m handle_torch_function(\n\u001b[1;32m    394\u001b[0m         Tensor\u001b[38;5;241m.\u001b[39mbackward,\n\u001b[1;32m    395\u001b[0m         (\u001b[38;5;28mself\u001b[39m,),\n\u001b[0;32m   (...)\u001b[0m\n\u001b[1;32m    399\u001b[0m         create_graph\u001b[38;5;241m=\u001b[39mcreate_graph,\n\u001b[1;32m    400\u001b[0m         inputs\u001b[38;5;241m=\u001b[39minputs)\n\u001b[0;32m--> 401\u001b[0m \u001b[43mtorch\u001b[49m\u001b[38;5;241;43m.\u001b[39;49m\u001b[43mautograd\u001b[49m\u001b[38;5;241;43m.\u001b[39;49m\u001b[43mbackward\u001b[49m\u001b[43m(\u001b[49m\u001b[38;5;28;43mself\u001b[39;49m\u001b[43m,\u001b[49m\u001b[43m \u001b[49m\u001b[43mgradient\u001b[49m\u001b[43m,\u001b[49m\u001b[43m \u001b[49m\u001b[43mretain_graph\u001b[49m\u001b[43m,\u001b[49m\u001b[43m \u001b[49m\u001b[43mcreate_graph\u001b[49m\u001b[43m,\u001b[49m\u001b[43m \u001b[49m\u001b[43minputs\u001b[49m\u001b[38;5;241;43m=\u001b[39;49m\u001b[43minputs\u001b[49m\u001b[43m)\u001b[49m\n",
      "File \u001b[0;32m/opt/homebrew/Caskroom/miniforge/base/envs/opencv/lib/python3.9/site-packages/torch/autograd/__init__.py:191\u001b[0m, in \u001b[0;36mbackward\u001b[0;34m(tensors, grad_tensors, retain_graph, create_graph, grad_variables, inputs)\u001b[0m\n\u001b[1;32m    186\u001b[0m     retain_graph \u001b[38;5;241m=\u001b[39m create_graph\n\u001b[1;32m    188\u001b[0m \u001b[38;5;66;03m# The reason we repeat same the comment below is that\u001b[39;00m\n\u001b[1;32m    189\u001b[0m \u001b[38;5;66;03m# some Python versions print out the first line of a multi-line function\u001b[39;00m\n\u001b[1;32m    190\u001b[0m \u001b[38;5;66;03m# calls in the traceback and some print out the last line\u001b[39;00m\n\u001b[0;32m--> 191\u001b[0m \u001b[43mVariable\u001b[49m\u001b[38;5;241;43m.\u001b[39;49m\u001b[43m_execution_engine\u001b[49m\u001b[38;5;241;43m.\u001b[39;49m\u001b[43mrun_backward\u001b[49m\u001b[43m(\u001b[49m\u001b[43m  \u001b[49m\u001b[38;5;66;43;03m# Calls into the C++ engine to run the backward pass\u001b[39;49;00m\n\u001b[1;32m    192\u001b[0m \u001b[43m    \u001b[49m\u001b[43mtensors\u001b[49m\u001b[43m,\u001b[49m\u001b[43m \u001b[49m\u001b[43mgrad_tensors_\u001b[49m\u001b[43m,\u001b[49m\u001b[43m \u001b[49m\u001b[43mretain_graph\u001b[49m\u001b[43m,\u001b[49m\u001b[43m \u001b[49m\u001b[43mcreate_graph\u001b[49m\u001b[43m,\u001b[49m\u001b[43m \u001b[49m\u001b[43minputs\u001b[49m\u001b[43m,\u001b[49m\n\u001b[1;32m    193\u001b[0m \u001b[43m    \u001b[49m\u001b[43mallow_unreachable\u001b[49m\u001b[38;5;241;43m=\u001b[39;49m\u001b[38;5;28;43;01mTrue\u001b[39;49;00m\u001b[43m,\u001b[49m\u001b[43m \u001b[49m\u001b[43maccumulate_grad\u001b[49m\u001b[38;5;241;43m=\u001b[39;49m\u001b[38;5;28;43;01mTrue\u001b[39;49;00m\u001b[43m)\u001b[49m\n",
      "\u001b[0;31mKeyboardInterrupt\u001b[0m: "
     ]
    }
   ],
   "source": [
    "from torch.utils.data import DataLoader\n",
    "from torchvision.utils import save_image\n",
    "from torch import optim\n",
    "data_loader = DataLoader(data,batch_size =8,shuffle = True,num_workers = 0)\n",
    "net = UNet().to(device)\n",
    "if os.path.exists(weight_path):\n",
    "    net.load_state_dict(torch.load(weight_path))\n",
    "    print('successful load weight')\n",
    "else:\n",
    "    print('not successful load weight')\n",
    "opt = optim.Adam(net.parameters())\n",
    "loss_fun = nn.BCELoss()\n",
    "\n",
    "epoch = 1\n",
    "while True:\n",
    "    for i,(image,segment_image) in enumerate(data_loader):\n",
    "        image,segment_image = image.to(device),segment_image.to(device)\n",
    "        \n",
    "        out_image = net(image)\n",
    "        train_loss = loss_fun(out_image,segment_image)\n",
    "        \n",
    "        opt.zero_grad()\n",
    "        train_loss.backward()\n",
    "        opt.step()\n",
    "        \n",
    "        if i%5==0:\n",
    "            print(f'{epoch}-{i}--train_loss=====>>{train_loss.item()}')\n",
    "            \n",
    "        if i%50==0:\n",
    "            torch.save(net.state_dict(),weight_path)\n",
    "            \n",
    "        _image = image[0]\n",
    "        _segment_image = segment_image[0]\n",
    "        _out_image = out_image[0]\n",
    "        img = torch.stack([_image,_segment_image,_out_image],dim=0)\n",
    "        save_image(img,f'{save_path}/{i}.png')\n",
    "    epoch+=1"
   ]
  },
  {
   "cell_type": "code",
   "execution_count": 29,
   "metadata": {},
   "outputs": [],
   "source": []
  },
  {
   "cell_type": "code",
   "execution_count": 55,
   "metadata": {},
   "outputs": [
    {
     "name": "stdout",
     "output_type": "stream",
     "text": [
      "successful load weight\n",
      "please input image patharchive/clip_img/1803191139/clip_00000000/1803191139-00000129.jpg\n"
     ]
    }
   ],
   "source": [
    "from torchvision.utils import save_image\n",
    "unet = UNet()\n",
    "weight_path = 'params/unet.pth'\n",
    "if os.path.exists(weight_path):\n",
    "    unet.load_state_dict(torch.load(weight_path))\n",
    "    print('successful load weight')\n",
    "else:\n",
    "    print('not successful load weight')\n",
    "    \n",
    "_input = input('please input image path')\n",
    "img = Image.open(_input).resize((256,256))\n",
    "\n",
    "img_data = transform(img)\n",
    "img_data = torch.unsqueeze(img_data,dim=0)\n",
    "out = unet(img_data)\n",
    "save_image(out,'result_image/result.jpg')"
   ]
  },
  {
   "cell_type": "code",
   "execution_count": 56,
   "metadata": {},
   "outputs": [],
   "source": [
    "transform_to_img = transforms.Compose([\n",
    "    transforms.ToPILImage(), \n",
    "    ]\n",
    ")\n",
    "seg_img = transform_to_img(out[0])"
   ]
  },
  {
   "cell_type": "code",
   "execution_count": 57,
   "metadata": {},
   "outputs": [
    {
     "data": {
      "text/plain": [
       "<matplotlib.image.AxesImage at 0x2a921b3d0>"
      ]
     },
     "execution_count": 57,
     "metadata": {},
     "output_type": "execute_result"
    },
    {
     "data": {
      "image/png": "[encoded data removed]",
      "text/plain": [
       "<Figure size 432x288 with 2 Axes>"
      ]
     },
     "metadata": {
      "needs_background": "light"
     },
     "output_type": "display_data"
    }
   ],
   "source": [
    "plt.subplot(1,2,1)\n",
    "plt.imshow(img)\n",
    "plt.subplot(1,2,2)\n",
    "plt.imshow(seg_img)\n"
   ]
  },
  {
   "cell_type": "code",
   "execution_count": null,
   "metadata": {},
   "outputs": [],
   "source": []
  },
  {
   "cell_type": "code",
   "execution_count": null,
   "metadata": {},
   "outputs": [],
   "source": []
  }
 ],
 "metadata": {
  "kernelspec": {
   "display_name": "opencv",
   "language": "python",
   "name": "opencv"
  },
  "language_info": {
   "codemirror_mode": {
    "name": "ipython",
    "version": 3
   },
   "file_extension": ".py",
   "mimetype": "text/x-python",
   "name": "python",
   "nbconvert_exporter": "python",
   "pygments_lexer": "ipython3",
   "version": "3.9.13"
  }
 },
 "nbformat": 4,
 "nbformat_minor": 4
}
